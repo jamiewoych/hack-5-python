{
 "cells": [
  {
   "cell_type": "code",
   "execution_count": 1,
   "metadata": {},
   "outputs": [
    {
     "data": {
      "text/plain": [
       "'foobarfizzbuzz'"
      ]
     },
     "execution_count": 1,
     "metadata": {},
     "output_type": "execute_result"
    }
   ],
   "source": [
    "def my_cool_function(arg1, arg2):\n",
    "    arg1 += 'bar'\n",
    "    arg2 += 'buzz'\n",
    "    return arg1 + arg2\n",
    "\n",
    "my_cool_function('foo', 'fizz')"
   ]
  },
  {
   "cell_type": "code",
   "execution_count": 51,
   "metadata": {},
   "outputs": [],
   "source": [
    "\n",
    "def init(N, f):\n",
    "    pop = []\n",
    "    frac = N*f\n",
    "    print(frac)\n",
    "    for i in range(N):\n",
    "        if i < frac:\n",
    "            pop.append(1)\n",
    "        else:\n",
    "            pop.append(0)\n",
    "    return(pop)\n"
   ]
  },
  {
   "cell_type": "code",
   "execution_count": 39,
   "metadata": {},
   "outputs": [
    {
     "name": "stdout",
     "output_type": "stream",
     "text": [
      "5.0\n"
     ]
    },
    {
     "data": {
      "text/plain": [
       "[1, 1, 1, 1, 1, 0, 0, 0, 0, 0]"
      ]
     },
     "execution_count": 39,
     "metadata": {},
     "output_type": "execute_result"
    }
   ],
   "source": [
    "init(10, 0.5)"
   ]
  },
  {
   "cell_type": "code",
   "execution_count": 6,
   "metadata": {},
   "outputs": [],
   "source": [
    "import random"
   ]
  },
  {
   "cell_type": "code",
   "execution_count": 52,
   "metadata": {},
   "outputs": [],
   "source": [
    "def step(pop):\n",
    "    N = len(pop)\n",
    "    new_pop = random.choices(pop, k = N)\n",
    "    return(new_pop)"
   ]
  },
  {
   "cell_type": "code",
   "execution_count": 47,
   "metadata": {},
   "outputs": [
    {
     "data": {
      "text/plain": [
       "[1, 0, 0, 0, 0, 0, 0, 0, 1, 1]"
      ]
     },
     "execution_count": 47,
     "metadata": {},
     "output_type": "execute_result"
    }
   ],
   "source": [
    "pop = [0, 0, 0, 0, 0, 1, 1, 1, 1, 1]\n",
    "step(pop)"
   ]
  },
  {
   "cell_type": "code",
   "execution_count": 52,
   "metadata": {},
   "outputs": [],
   "source": [
    "pop = []"
   ]
  },
  {
   "cell_type": "code",
   "execution_count": 58,
   "metadata": {},
   "outputs": [],
   "source": [
    "def wf(N, f, ngens):\n",
    "    pop = init(N, f)\n",
    "    for i in range(ngens):\n",
    "        pop = step(pop)\n",
    "    x = (sum(pop)/N)\n",
    "    print(f\"generations: {ngens} ; freq(a): {x}\")"
   ]
  },
  {
   "cell_type": "code",
   "execution_count": 57,
   "metadata": {},
   "outputs": [
    {
     "name": "stdout",
     "output_type": "stream",
     "text": [
      "20.0\n",
      "generations: 10 ; freq(a): 0.26\n"
     ]
    }
   ],
   "source": [
    "wf(100, 0.2, 10)"
   ]
  },
  {
   "cell_type": "code",
   "execution_count": 2,
   "metadata": {},
   "outputs": [],
   "source": [
    "## Implementing the WF Model as a Class\n",
    "class Population:\n",
    "    pass"
   ]
  },
  {
   "cell_type": "code",
   "execution_count": 4,
   "metadata": {},
   "outputs": [],
   "source": [
    "p = Population()"
   ]
  },
  {
   "cell_type": "code",
   "execution_count": 5,
   "metadata": {},
   "outputs": [],
   "source": [
    "#initializing class attributes with init method \n",
    "class Population:\n",
    "    def __init__(self, N, f):\n",
    "        self.N = N\n",
    "        self.f = f\n",
    "        \n",
    "        \n",
    "        self.pop = []\n",
    "        frac = N*f    \n",
    "        for i in range(N):\n",
    "            if i < frac:\n",
    "                self.pop.append(1)\n",
    "            else:\n",
    "                self.pop.append(0)\n",
    "            "
   ]
  },
  {
   "cell_type": "code",
   "execution_count": 6,
   "metadata": {},
   "outputs": [
    {
     "ename": "TypeError",
     "evalue": "__init__() missing 2 required positional arguments: 'N' and 'f'",
     "output_type": "error",
     "traceback": [
      "\u001b[0;31m---------------------------------------------------------------------------\u001b[0m",
      "\u001b[0;31mTypeError\u001b[0m                                 Traceback (most recent call last)",
      "\u001b[0;32m<ipython-input-6-ca1b3b4a9b0d>\u001b[0m in \u001b[0;36m<module>\u001b[0;34m\u001b[0m\n\u001b[0;32m----> 1\u001b[0;31m \u001b[0mp\u001b[0m \u001b[0;34m=\u001b[0m \u001b[0mPopulation\u001b[0m\u001b[0;34m(\u001b[0m\u001b[0;34m)\u001b[0m\u001b[0;34m\u001b[0m\u001b[0;34m\u001b[0m\u001b[0m\n\u001b[0m",
      "\u001b[0;31mTypeError\u001b[0m: __init__() missing 2 required positional arguments: 'N' and 'f'"
     ]
    }
   ],
   "source": [
    "p = Population()\n"
   ]
  },
  {
   "cell_type": "code",
   "execution_count": 7,
   "metadata": {},
   "outputs": [
    {
     "name": "stdout",
     "output_type": "stream",
     "text": [
      "N=10 f=0.2\n"
     ]
    }
   ],
   "source": [
    "#adding default values if N and f are not specified\n",
    "class Population:\n",
    "    def __init__(self, N=10, f=0.2):\n",
    "        self.N = N\n",
    "        self.f = f\n",
    "        \n",
    "        \n",
    "        self.pop = []\n",
    "        frac = N*f    \n",
    "        for i in range(N):\n",
    "            if i < frac:\n",
    "                self.pop.append(1)\n",
    "            else:\n",
    "                self.pop.append(0)\n",
    "\n",
    "                \n",
    "p= Population()\n",
    "print(f\"N={p.N} f={p.f}\")"
   ]
  },
  {
   "cell_type": "code",
   "execution_count": 11,
   "metadata": {},
   "outputs": [
    {
     "data": {
      "text/plain": [
       "Population(N=10, f=0.2)"
      ]
     },
     "execution_count": 11,
     "metadata": {},
     "output_type": "execute_result"
    }
   ],
   "source": [
    "#creating printable representations of an object with __repr__()\n",
    "#provides functionality to print objects in a readable way\n",
    "\n",
    "class Population:\n",
    "    def __init__(self, N=10, f=0.2):\n",
    "        self.N = N\n",
    "        self.f = f\n",
    "        \n",
    "        \n",
    "        self.pop = []\n",
    "        frac = N*f    \n",
    "        for i in range(N):\n",
    "            if i < frac:\n",
    "                self.pop.append(1)\n",
    "            else:\n",
    "                self.pop.append(0)\n",
    "    \n",
    "    def __repr__(self):\n",
    "        return f\"Population(N={self.N}, f={self.f})\"\n",
    "    \n",
    "p = Population()\n",
    "p\n",
    "\n",
    "                "
   ]
  },
  {
   "cell_type": "code",
   "execution_count": 26,
   "metadata": {},
   "outputs": [
    {
     "data": {
      "text/plain": [
       "[0, 1, 0, 1, 1, 1, 1, 0, 0, 1]"
      ]
     },
     "execution_count": 26,
     "metadata": {},
     "output_type": "execute_result"
    }
   ],
   "source": [
    "#Defining a class method to implement the WF step() function\n",
    "\n",
    "class Population:\n",
    "    def __init__(self, N=10, f=0.2):\n",
    "        self.N = N\n",
    "        self.f = f\n",
    "        \n",
    "        \n",
    "        self.pop = []\n",
    "        frac = N*f    \n",
    "        for i in range(N):\n",
    "            if i < frac:\n",
    "                self.pop.append(1)\n",
    "            else:\n",
    "                self.pop.append(0)\n",
    "    \n",
    "    def __repr__(self):\n",
    "        return f\"Population(N={self.N}, f={self.f})\"\n",
    " \n",
    "    def step(self, ngens=1):\n",
    "        for i in range(ngens):\n",
    "            self.pop = random.choices(self.pop, k=len(self.pop))\n"
   ]
  },
  {
   "cell_type": "code",
   "execution_count": 61,
   "metadata": {},
   "outputs": [
    {
     "name": "stdout",
     "output_type": "stream",
     "text": [
      "[1, 1, 0, 0, 0, 0, 0, 0, 0, 0]\n"
     ]
    },
    {
     "data": {
      "text/plain": [
       "Population(N=10, f=0.2)"
      ]
     },
     "execution_count": 61,
     "metadata": {},
     "output_type": "execute_result"
    }
   ],
   "source": [
    "#k=len(self.pop) is redundant ; change to k=N\n",
    "class Population:\n",
    "    def __init__(self, N=10, f=0.2):\n",
    "        self.N = N\n",
    "        self.f = f\n",
    "                \n",
    "        self.pop = []\n",
    "        frac = N*f    \n",
    "        for i in range(N):\n",
    "            if i < frac:\n",
    "                self.pop.append(1)\n",
    "            else:\n",
    "                self.pop.append(0)\n",
    "    \n",
    "    def __repr__(self):\n",
    "        return f\"Population(N={self.N}, f={self.f})\"\n",
    " \n",
    "    def step(self, ngens=1):\n",
    "        for i in range(ngens):\n",
    "            self.pop = random.choices(self.pop, k= self.N)\n",
    "\n",
    "p = Population()\n",
    "print(p.pop)\n",
    "p"
   ]
  },
  {
   "cell_type": "code",
   "execution_count": 20,
   "metadata": {},
   "outputs": [],
   "source": [
    "p = Population(1000000000)"
   ]
  },
  {
   "cell_type": "code",
   "execution_count": 21,
   "metadata": {},
   "outputs": [
    {
     "name": "stdout",
     "output_type": "stream",
     "text": [
      "41.1 ns ± 0.78 ns per loop (mean ± std. dev. of 7 runs, 10000000 loops each)\n"
     ]
    }
   ],
   "source": [
    "%%timeit\n",
    "p.N"
   ]
  },
  {
   "cell_type": "code",
   "execution_count": 22,
   "metadata": {},
   "outputs": [
    {
     "name": "stdout",
     "output_type": "stream",
     "text": [
      "85.2 ns ± 1.28 ns per loop (mean ± std. dev. of 7 runs, 10000000 loops each)\n"
     ]
    }
   ],
   "source": [
    "%%timeit\n",
    "len(p.pop)"
   ]
  },
  {
   "cell_type": "code",
   "execution_count": 4,
   "metadata": {},
   "outputs": [],
   "source": [
    "## Numpy challenge"
   ]
  },
  {
   "cell_type": "code",
   "execution_count": null,
   "metadata": {},
   "outputs": [],
   "source": [
    "import numpy as n\n",
    "import random"
   ]
  },
  {
   "cell_type": "code",
   "execution_count": 31,
   "metadata": {},
   "outputs": [],
   "source": [
    "class Population:\n",
    "    def __init__(self, N=10, f=0.2, with_np = False):\n",
    "        #class attributes\n",
    "        self.N = N\n",
    "        self.f = f\n",
    "        self.with_np = with_np\n",
    "        \n",
    "        if self.with_np:\n",
    "            derived_count = round(N*f)\n",
    "            self.pop = np.array([0] * (N - derived_count) + [1] * derived_count)\n",
    "        else:\n",
    "            derived_count = round(N*f)\n",
    "            self.pop = [0] * (N - derived_count) + [1] * derived_count\n",
    "                \n",
    "    def __repr__(self):\n",
    "        return f\"Population(N={self.N}, f={self.f})\"\n",
    " \n",
    "    def step(self, ngens=1):\n",
    "        \n",
    "        if self.with_np:\n",
    "            self.pop = np.random.choice(self.pop, size = self.N)\n",
    "        else:\n",
    "            for i in range(ngens):\n",
    "                self.pop = random.choices(self.pop, k= self.N)\n"
   ]
  },
  {
   "cell_type": "code",
   "execution_count": 1,
   "metadata": {},
   "outputs": [
    {
     "ename": "NameError",
     "evalue": "name 'Population' is not defined",
     "output_type": "error",
     "traceback": [
      "\u001b[0;31m---------------------------------------------------------------------------\u001b[0m",
      "\u001b[0;31mNameError\u001b[0m                                 Traceback (most recent call last)",
      "\u001b[0;32m<ipython-input-1-9d48d794fed2>\u001b[0m in \u001b[0;36m<module>\u001b[0;34m\u001b[0m\n\u001b[0;32m----> 1\u001b[0;31m \u001b[0mpop\u001b[0m \u001b[0;34m=\u001b[0m \u001b[0mPopulation\u001b[0m\u001b[0;34m(\u001b[0m\u001b[0;36m25\u001b[0m\u001b[0;34m)\u001b[0m\u001b[0;34m\u001b[0m\u001b[0;34m\u001b[0m\u001b[0m\n\u001b[0m\u001b[1;32m      2\u001b[0m \u001b[0mpop_np\u001b[0m \u001b[0;34m=\u001b[0m \u001b[0mPopulation\u001b[0m\u001b[0;34m(\u001b[0m\u001b[0;36m25\u001b[0m\u001b[0;34m,\u001b[0m \u001b[0mwith_np\u001b[0m \u001b[0;34m=\u001b[0m \u001b[0;32mTrue\u001b[0m\u001b[0;34m)\u001b[0m\u001b[0;34m\u001b[0m\u001b[0;34m\u001b[0m\u001b[0m\n\u001b[1;32m      3\u001b[0m \u001b[0mpop\u001b[0m\u001b[0;34m\u001b[0m\u001b[0;34m\u001b[0m\u001b[0m\n",
      "\u001b[0;31mNameError\u001b[0m: name 'Population' is not defined"
     ]
    }
   ],
   "source": [
    "pop = Population(25)\n",
    "pop_np = Population(25, with_np = True)"
   ]
  },
  {
   "cell_type": "code",
   "execution_count": 48,
   "metadata": {},
   "outputs": [
    {
     "name": "stdout",
     "output_type": "stream",
     "text": [
      "208 µs ± 6.35 µs per loop (mean ± std. dev. of 7 runs, 1000 loops each)\n"
     ]
    }
   ],
   "source": [
    "%%timeit\n",
    "pop.step(20)"
   ]
  },
  {
   "cell_type": "code",
   "execution_count": 43,
   "metadata": {},
   "outputs": [
    {
     "name": "stdout",
     "output_type": "stream",
     "text": [
      "23.1 µs ± 804 ns per loop (mean ± std. dev. of 7 runs, 10000 loops each)\n"
     ]
    }
   ],
   "source": [
    "%%timeit\n",
    "pop_np.step(20)"
   ]
  },
  {
   "cell_type": "markdown",
   "metadata": {},
   "source": [
    "## Numpy Challenge Results\n",
    "\n",
    "*Population size 100, ngens 1000* \\\n",
    "pop: \n",
    "20.9 ms ± 2.49 ms per loop (mean ± std. dev. of 7 runs, 10 loops each)\n",
    "\n",
    "pop_np: \n",
    "24 µs ± 780 ns per loop (mean ± std. dev. of 7 runs, 10000 loops each)\n",
    "\n",
    "*Population size 50, ngens 100* \\\n",
    "pop: \n",
    "1.02 ms ± 12 µs per loop (mean ± std. dev. of 7 runs, 1000 loops each)\n",
    "\n",
    "pop_np: \n",
    "24 µs ± 1.53 µs per loop (mean ± std. dev. of 7 runs, 10000 loops each)\n",
    "\n",
    "*Population size 25, ngens 20* \\\n",
    "pop: \n",
    "208 µs ± 6.35 µs per loop (mean ± std. dev. of 7 runs, 1000 loops each)\n",
    "\n",
    "pop_np: \n",
    "23 µs ± 3.5 µs per loop \n",
    "(mean ± std. dev. of 7 runs, 10000 loops each)\n",
    "\n",
    "*Conclusion* \\\n",
    "For each of these comparative tests of performance between using lists and numpy arrays, the tests using numpy arrays were an order of magnitude faster than use of lists per loop. Using numpy arrays, more loops were run\n",
    "\n"
   ]
  },
  {
   "cell_type": "code",
   "execution_count": null,
   "metadata": {},
   "outputs": [],
   "source": []
  },
  {
   "cell_type": "code",
   "execution_count": null,
   "metadata": {},
   "outputs": [],
   "source": []
  }
 ],
 "metadata": {
  "kernelspec": {
   "display_name": "Python 3 (ipykernel)",
   "language": "python",
   "name": "python3"
  },
  "language_info": {
   "codemirror_mode": {
    "name": "ipython",
    "version": 3
   },
   "file_extension": ".py",
   "mimetype": "text/x-python",
   "name": "python",
   "nbconvert_exporter": "python",
   "pygments_lexer": "ipython3",
   "version": "3.12.9"
  }
 },
 "nbformat": 4,
 "nbformat_minor": 4
}
