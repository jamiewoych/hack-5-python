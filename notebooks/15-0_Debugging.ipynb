{
 "cells": [
  {
   "cell_type": "code",
   "execution_count": null,
   "id": "83d1362a-f665-4751-90a7-253cdfe7b4cc",
   "metadata": {},
   "outputs": [],
   "source": [
    "#Icebroken Challenge\n",
    "\n"
   ]
  },
  {
   "cell_type": "code",
   "execution_count": null,
   "id": "d427cf3d-f98a-4d9e-8742-c39fea9dedc8",
   "metadata": {},
   "outputs": [],
   "source": [
    "#original\n",
    "import requests\n",
    "url = \"https://raw.githubusercontent.com/eaton-lab/hack-the-planet/refs/heads/master/docs/data/penguin_data.csv\"\n",
    "\n",
    "with open(\"penguin_data.csv\", 'w') as outfile:\n",
    "    outfile.write(requests.get(url).text)\n",
    "\n",
    "data = penguin_data.csv\n",
    "df = pd.read_csv(data)"
   ]
  },
  {
   "cell_type": "code",
   "execution_count": 2,
   "id": "702fd929-a5ac-4870-b408-a78fdaf83bc0",
   "metadata": {},
   "outputs": [
    {
     "name": "stdout",
     "output_type": "stream",
     "text": [
      "     culmen.length  culmen.depth  flipper.length  body.mass species\n",
      "0             39.1          18.7             181       3750  Adelie\n",
      "1             39.5          17.4             186       3800  Adelie\n",
      "2             40.3          18.0             195       3250  Adelie\n",
      "3             36.7          19.3             193       3450  Adelie\n",
      "4             39.3          20.6             190       3650  Adelie\n",
      "..             ...           ...             ...        ...     ...\n",
      "145           43.6          13.9             217       4900  Gentoo\n",
      "146           45.5          13.9             210       4200  Gentoo\n",
      "147           50.5          15.9             225       5400  Gentoo\n",
      "148           44.9          13.3             213       5100  Gentoo\n",
      "149           45.2          15.8             215       5300  Gentoo\n",
      "\n",
      "[150 rows x 5 columns]\n"
     ]
    }
   ],
   "source": [
    "import requests\n",
    "import pandas as pd\n",
    "penguin_data = \"https://raw.githubusercontent.com/eaton-lab/hack-the-planet/refs/heads/master/docs/data/penguin_data.csv\"\n",
    "\n",
    "with open(\"penguin_data.csv\", 'w') as outfile:\n",
    "    outfile.write(requests.get(penguin_data).text)\n",
    "\n",
    "data = penguin_data\n",
    "df = pd.read_csv(data)\n",
    "print(df)"
   ]
  },
  {
   "cell_type": "code",
   "execution_count": null,
   "id": "70f4717d-dd96-4df3-a3af-4519035537e6",
   "metadata": {},
   "outputs": [],
   "source": [
    "#alternative solve > difference between variable and string\n",
    "import requests\n",
    "import pandas as pd\n",
    "url = \"https://raw.githubusercontent.com/eaton-lab/hack-the-planet/refs/heads/master/docs/data/penguin_data.csv\"\n",
    "\n",
    "with open(\"penguin_data.csv\", 'w') as outfile:\n",
    "    outfile.write(requests.get(url).text)\n",
    "\n",
    "data = \"penguin_data.csv\"\n",
    "df = pd.read_csv(data)"
   ]
  },
  {
   "cell_type": "code",
   "execution_count": null,
   "id": "cfa5a878-224d-4138-9c05-f95d59469e01",
   "metadata": {},
   "outputs": [],
   "source": [
    "def either_less(a, b, c=4):\n",
    "    if a or b < c:\n",
    "        print(\"Both are less\")\n",
    "    else:\n",
    "        print(\"Both aren't less\")\n",
    "\n",
    "either_less(3, 5)"
   ]
  },
  {
   "cell_type": "code",
   "execution_count": 10,
   "id": "9a3ab45e-d958-4133-b3e7-d0243f0a6574",
   "metadata": {},
   "outputs": [
    {
     "name": "stdout",
     "output_type": "stream",
     "text": [
      "One is less\n"
     ]
    }
   ],
   "source": [
    "def either_less(a, b, c=4):\n",
    "    if a < c and b < c:\n",
    "        print(\"Both are less\")\n",
    "    elif a < c or b < c:\n",
    "        print(\"One is less\")\n",
    "    else:\n",
    "        print(\"Both aren't less\")\n",
    "\n",
    "either_less(3, 5)"
   ]
  },
  {
   "cell_type": "code",
   "execution_count": 15,
   "id": "2d32ecaf-394b-4832-9ffa-8fc3dcff4ff0",
   "metadata": {},
   "outputs": [
    {
     "name": "stdout",
     "output_type": "stream",
     "text": [
      "helloworld\n"
     ]
    }
   ],
   "source": [
    "if True:\n",
    "    print(\"helloworld\")"
   ]
  },
  {
   "cell_type": "code",
   "execution_count": null,
   "id": "e9df1093-c560-41a5-9ef6-1531c683e64a",
   "metadata": {},
   "outputs": [],
   "source": [
    ",,,,,"
   ]
  }
 ],
 "metadata": {
  "kernelspec": {
   "display_name": "Python 3 (ipykernel)",
   "language": "python",
   "name": "python3"
  },
  "language_info": {
   "codemirror_mode": {
    "name": "ipython",
    "version": 3
   },
   "file_extension": ".py",
   "mimetype": "text/x-python",
   "name": "python",
   "nbconvert_exporter": "python",
   "pygments_lexer": "ipython3",
   "version": "3.12.9"
  }
 },
 "nbformat": 4,
 "nbformat_minor": 5
}
