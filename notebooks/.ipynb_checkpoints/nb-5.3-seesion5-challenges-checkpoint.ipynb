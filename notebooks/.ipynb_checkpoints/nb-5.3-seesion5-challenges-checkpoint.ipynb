{
 "cells": [
  {
   "cell_type": "markdown",
   "metadata": {},
   "source": [
    "# Notebook 5.3: Session 5 challenges\n",
    "\n",
    "Here are more challenges to test your knowledge of variables, lists, and for loops."
   ]
  },
  {
   "cell_type": "markdown",
   "metadata": {},
   "source": [
    "### Challenges"
   ]
  },
  {
   "cell_type": "markdown",
   "metadata": {},
   "source": [
    "A. Create code that includes a loop which iterates over the a list of integers and prints the sum. Use\n",
    "this list as a test case [1, 5, 2, 6] and print the results in this form:\n",
    "```\n",
    "The sum of the numbers in the list is 14\n",
    "```\n",
    "\n",
    "Hint: Use the += operator, and a variable which is instantiated outside the loop, but modified inside it."
   ]
  },
  {
   "cell_type": "code",
   "execution_count": 12,
   "metadata": {},
   "outputs": [
    {
     "name": "stdout",
     "output_type": "stream",
     "text": [
      "The sum of the numbers in the list is 14\n"
     ]
    }
   ],
   "source": [
    "x = 0\n",
    "list = [1, 5, 2, 6]\n",
    "for i in list:\n",
    "    x += i\n",
    "print(\"The sum of the numbers in the list is \" +  str(x))\n"
   ]
  },
  {
   "cell_type": "markdown",
   "metadata": {},
   "source": [
    "B. Write python code to print the following DNA sequence pattern using a loop.\n",
    "```\n",
    "CATG\n",
    "CATGCATG\n",
    "CATGCATGCATG\n",
    "CATGCATGCATGCATG\n",
    "CATGCATGCATGCATGCATG\n",
    "```"
   ]
  },
  {
   "cell_type": "code",
   "execution_count": 27,
   "metadata": {},
   "outputs": [
    {
     "name": "stdout",
     "output_type": "stream",
     "text": [
      "CATG\n",
      "CATGCATG\n",
      "CATGCATGCATG\n",
      "CATGCATGCATGCATG\n",
      "CATGCATGCATGCATGCATG\n"
     ]
    }
   ],
   "source": [
    "dna = \"\"\n",
    "for i in range(0, 5):\n",
    "    dna += \"CATG\"\n",
    "    print(dna)"
   ]
  },
  {
   "cell_type": "markdown",
   "metadata": {},
   "source": [
    "C. Create code with a nested loop based on the list of lists [[\"apple\", \"orange\"], [\"carrot\", \"cabbage\"], [\"chicken\", \"beef\"]] and produces the following output:\n",
    "```\n",
    "apple\n",
    "orange\n",
    "carrot\n",
    "cabbage\n",
    "chicken\n",
    "beef\n",
    "```"
   ]
  },
  {
   "cell_type": "code",
   "execution_count": 30,
   "metadata": {},
   "outputs": [
    {
     "name": "stdout",
     "output_type": "stream",
     "text": [
      "apple\n",
      "orange\n",
      "carrot\n",
      "cabbage\n",
      "chicken\n",
      "beef\n"
     ]
    }
   ],
   "source": [
    "listolists = [[\"apple\", \"orange\"], [\"carrot\", \"cabbage\"], [\"chicken\", \"beef\"]]\n",
    "\n",
    "for list in listolists:\n",
    "    for fruit in list:\n",
    "        print(fruit)"
   ]
  },
  {
   "cell_type": "markdown",
   "metadata": {},
   "source": [
    "D. Using the same input list of lists as above modify create new code so it prints the following output:\n",
    "```\n",
    "apple\n",
    "carrot\n",
    "chicken\n",
    "orange\n",
    "cabbage\n",
    "beef\n",
    "```"
   ]
  },
  {
   "cell_type": "code",
   "execution_count": 40,
   "metadata": {},
   "outputs": [
    {
     "name": "stdout",
     "output_type": "stream",
     "text": [
      "apple\n",
      "carrot\n",
      "chicken\n",
      "orange\n",
      "cabbage\n",
      "beef\n"
     ]
    }
   ],
   "source": [
    "for list in listolists:\n",
    "    for fruit in list[0:1]:\n",
    "        print(fruit)\n",
    "for list in listolists:\n",
    "    for fruit in list[1:]:\n",
    "        print(fruit)"
   ]
  },
  {
   "cell_type": "markdown",
   "metadata": {},
   "source": [
    "E. Write a for loop to print the first 20 even numbers starting at 0 (hint: use range())."
   ]
  },
  {
   "cell_type": "code",
   "execution_count": 42,
   "metadata": {},
   "outputs": [
    {
     "name": "stdout",
     "output_type": "stream",
     "text": [
      "0\n",
      "2\n",
      "4\n",
      "6\n",
      "8\n",
      "10\n",
      "12\n",
      "14\n",
      "16\n",
      "18\n",
      "20\n",
      "22\n",
      "24\n",
      "26\n",
      "28\n",
      "30\n",
      "32\n",
      "34\n",
      "36\n",
      "38\n"
     ]
    }
   ],
   "source": [
    "for i in range(0, 40):\n",
    "    if i % 2 == 0:\n",
    "        print(i)"
   ]
  },
  {
   "cell_type": "markdown",
   "metadata": {},
   "source": [
    "F. Write a for loop to print the first 20 odd numbers starting at 101, but print them in descending order."
   ]
  },
  {
   "cell_type": "code",
   "execution_count": 46,
   "metadata": {},
   "outputs": [
    {
     "name": "stdout",
     "output_type": "stream",
     "text": [
      "101\n",
      "99\n",
      "97\n",
      "95\n",
      "93\n",
      "91\n",
      "89\n",
      "87\n",
      "85\n",
      "83\n",
      "81\n",
      "79\n",
      "77\n",
      "75\n",
      "73\n",
      "71\n",
      "69\n",
      "67\n",
      "65\n",
      "63\n"
     ]
    }
   ],
   "source": [
    "count = 0\n",
    "for i in range(101, 0, -2):\n",
    "        if count < 20:\n",
    "            print(i)\n",
    "            count += 1\n",
    "        else:\n",
    "            break"
   ]
  },
  {
   "cell_type": "markdown",
   "metadata": {},
   "source": [
    "G. Using what you have learned in the previous exercises, write code to take a the following \n",
    "DNA sequence and print only the bases with even index. For example if the\n",
    "input sequence is \"GCACGG\" the output should be \"GAG\" (remembering that 0 is also even)."
   ]
  },
  {
   "cell_type": "code",
   "execution_count": 47,
   "metadata": {},
   "outputs": [],
   "source": [
    "seq = \"\"\"\n",
    ">Calumma_boettgeri_voucher_FGZC_462\n",
    "GGAAGTATTAACCAGACACAACTACGAAAACTAATGGCCTACTCATCAATTACTAACC\n",
    "TAGGGTGGACAATAATTATTTTCACAACCGCACCACACATTGCTACACTAAACATTAT\n",
    "TATCTACATAATTATACTCATCCCACTATTCATACTCATTAAAAAAATATCTATAAAA\n",
    "ACACTGCGAGACTCAACAACTACATGAACTACGTCCCCGATAGCAAACACCCTACTAA\n",
    "TGCTAATACTTCTGTCACTAAGTGGTCTTCCCCCCCTCACAGGTTTCACCCCAAAACT\n",
    "TTTAATTTTAAACGAACTAATTTTACAAAATTTAACACCCGCTGCAACAATAATAGCC\n",
    "ATACTATCTCTAATTGGACTATTTTTTTATATCCGAACAAC\n",
    "\"\"\""
   ]
  },
  {
   "cell_type": "code",
   "execution_count": 87,
   "metadata": {},
   "outputs": [
    {
     "data": {
      "text/plain": [
       "35"
      ]
     },
     "execution_count": 87,
     "metadata": {},
     "output_type": "execute_result"
    }
   ],
   "source": [
    "seq.find(\"2\")"
   ]
  },
  {
   "cell_type": "code",
   "execution_count": 95,
   "metadata": {},
   "outputs": [
    {
     "data": {
      "text/plain": [
       "'\\nGGAAGTATTAACCAGACACAACTACGAAAACTAATGGCCTACTCATCAATTACTAACC\\nTAGGGTGGACAATAATTATTTTCACAACCGCACCACACATTGCTACACTAAACATTAT\\nTATCTACATAATTATACTCATCCCACTATTCATACTCATTAAAAAAATATCTATAAAA\\nACACTGCGAGACTCAACAACTACATGAACTACGTCCCCGATAGCAAACACCCTACTAA\\nTGCTAATACTTCTGTCACTAAGTGGTCTTCCCCCCCTCACAGGTTTCACCCCAAAACT\\nTTTAATTTTAAACGAACTAATTTTACAAAATTTAACACCCGCTGCAACAATAATAGCC\\nATACTATCTCTAATTGGACTATTTTTTTATATCCGAACAAC\\n'"
      ]
     },
     "execution_count": 95,
     "metadata": {},
     "output_type": "execute_result"
    }
   ],
   "source": [
    "splitlist = seq[36:]\n",
    "splitlist"
   ]
  },
  {
   "cell_type": "raw",
   "metadata": {},
   "source": []
  },
  {
   "cell_type": "code",
   "execution_count": 103,
   "metadata": {},
   "outputs": [
    {
     "data": {
      "text/plain": [
       "'GGAAGTATTAACCAGACACAACTACGAAAACTAATGGCCTACTCATCAATTACTAACCTAGGGTGGACAATAATTATTTTCACAACCGCACCACACATTGCTACACTAAACATTATTATCTACATAATTATACTCATCCCACTATTCATACTCATTAAAAAAATATCTATAAAAACACTGCGAGACTCAACAACTACATGAACTACGTCCCCGATAGCAAACACCCTACTAATGCTAATACTTCTGTCACTAAGTGGTCTTCCCCCCCTCACAGGTTTCACCCCAAAACTTTTAATTTTAAACGAACTAATTTTACAAAATTTAACACCCGCTGCAACAATAATAGCCATACTATCTCTAATTGGACTATTTTTTTATATCCGAACAAC'"
      ]
     },
     "execution_count": 103,
     "metadata": {},
     "output_type": "execute_result"
    }
   ],
   "source": [
    "nospace = splitlist.replace(\"\\n\" , \"\")\n",
    "nospace"
   ]
  },
  {
   "cell_type": "code",
   "execution_count": 106,
   "metadata": {},
   "outputs": [
    {
     "name": "stdout",
     "output_type": "stream",
     "text": [
      "G\n",
      "A\n",
      "G\n",
      "A\n",
      "T\n",
      "A\n",
      "C\n",
      "G\n",
      "C\n",
      "C\n",
      "A\n",
      "T\n",
      "C\n",
      "A\n",
      "A\n",
      "C\n",
      "A\n",
      "T\n",
      "G\n",
      "C\n",
      "A\n",
      "T\n",
      "A\n",
      "C\n",
      "A\n",
      "T\n",
      "C\n",
      "A\n",
      "C\n",
      "T\n",
      "G\n",
      "G\n",
      "G\n",
      "A\n",
      "A\n",
      "T\n",
      "A\n",
      "T\n",
      "T\n",
      "T\n",
      "C\n",
      "C\n",
      "A\n",
      "C\n",
      "C\n",
      "C\n",
      "A\n",
      "A\n",
      "A\n",
      "T\n",
      "C\n",
      "A\n",
      "A\n",
      "T\n",
      "A\n",
      "C\n",
      "T\n",
      "A\n",
      "T\n",
      "T\n",
      "T\n",
      "C\n",
      "T\n",
      "A\n",
      "T\n",
      "T\n",
      "C\n",
      "C\n",
      "T\n",
      "C\n",
      "A\n",
      "T\n",
      "T\n",
      "C\n",
      "T\n",
      "C\n",
      "C\n",
      "T\n",
      "A\n",
      "A\n",
      "A\n",
      "A\n",
      "A\n",
      "C\n",
      "A\n",
      "A\n",
      "A\n",
      "A\n",
      "A\n",
      "T\n",
      "C\n",
      "A\n",
      "A\n",
      "T\n",
      "A\n",
      "C\n",
      "A\n",
      "T\n",
      "C\n",
      "T\n",
      "A\n",
      "C\n",
      "A\n",
      "G\n",
      "C\n",
      "C\n",
      "G\n",
      "T\n",
      "G\n",
      "A\n",
      "A\n",
      "A\n",
      "C\n",
      "T\n",
      "C\n",
      "A\n",
      "T\n",
      "C\n",
      "A\n",
      "T\n",
      "C\n",
      "T\n",
      "T\n",
      "T\n",
      "A\n",
      "T\n",
      "A\n",
      "T\n",
      "G\n",
      "C\n",
      "T\n",
      "C\n",
      "C\n",
      "C\n",
      "T\n",
      "A\n",
      "A\n",
      "G\n",
      "T\n",
      "C\n",
      "C\n",
      "C\n",
      "A\n",
      "A\n",
      "C\n",
      "T\n",
      "T\n",
      "A\n",
      "T\n",
      "T\n",
      "A\n",
      "C\n",
      "A\n",
      "C\n",
      "A\n",
      "T\n",
      "T\n",
      "A\n",
      "A\n",
      "A\n",
      "T\n",
      "T\n",
      "A\n",
      "A\n",
      "C\n",
      "G\n",
      "T\n",
      "C\n",
      "A\n",
      "A\n",
      "T\n",
      "A\n",
      "A\n",
      "C\n",
      "A\n",
      "A\n",
      "T\n",
      "T\n",
      "T\n",
      "T\n",
      "A\n",
      "T\n",
      "G\n",
      "C\n",
      "A\n",
      "T\n",
      "T\n",
      "T\n",
      "A\n",
      "A\n",
      "C\n",
      "G\n",
      "A\n",
      "A\n",
      "C\n"
     ]
    }
   ],
   "source": [
    "for i in range(0, len(nospace), 2):\n",
    "    print(nospace[i])"
   ]
  },
  {
   "cell_type": "code",
   "execution_count": null,
   "metadata": {},
   "outputs": [],
   "source": []
  },
  {
   "cell_type": "code",
   "execution_count": 85,
   "metadata": {},
   "outputs": [
    {
     "name": "stdout",
     "output_type": "stream",
     "text": [
      "\n",
      "\n",
      "G\n",
      "A\n",
      "T\n",
      "T\n",
      "A\n",
      "C\n",
      "A\n",
      "A\n",
      "A\n",
      "A\n",
      "C\n",
      "A\n",
      "G\n",
      "A\n",
      "A\n",
      "T\n",
      "A\n",
      "G\n",
      "C\n",
      "T\n",
      "C\n",
      "C\n",
      "T\n",
      "A\n",
      "T\n",
      "A\n",
      "T\n",
      "A\n",
      "C\n",
      "T\n",
      "G\n",
      "G\n",
      "G\n",
      "A\n",
      "A\n",
      "T\n",
      "A\n",
      "T\n",
      "T\n",
      "T\n",
      "C\n",
      "C\n",
      "A\n",
      "C\n",
      "C\n",
      "C\n",
      "A\n",
      "A\n",
      "A\n",
      "T\n",
      "C\n",
      "A\n",
      "A\n",
      "T\n",
      "A\n",
      "C\n",
      "T\n",
      "A\n",
      "\n",
      "\n",
      "A\n",
      "C\n",
      "A\n",
      "A\n",
      "A\n",
      "T\n",
      "A\n",
      "A\n",
      "T\n",
      "A\n",
      "C\n",
      "C\n",
      "C\n",
      "A\n",
      "T\n",
      "A\n",
      "A\n",
      "T\n",
      "A\n",
      "T\n",
      "A\n",
      "A\n",
      "A\n",
      "T\n",
      "T\n",
      "T\n",
      "T\n",
      "A\n",
      "A\n",
      "A\n",
      "A\n",
      "T\n",
      "C\n",
      "A\n",
      "A\n",
      "T\n",
      "A\n",
      "C\n",
      "A\n",
      "T\n",
      "C\n",
      "T\n",
      "A\n",
      "C\n",
      "A\n",
      "G\n",
      "C\n",
      "C\n",
      "G\n",
      "T\n",
      "G\n",
      "A\n",
      "A\n",
      "A\n",
      "C\n",
      "T\n",
      "C\n",
      "A\n",
      "\n",
      "\n",
      "G\n",
      "T\n",
      "A\n",
      "A\n",
      "T\n",
      "C\n",
      "G\n",
      "C\n",
      "C\n",
      "A\n",
      "G\n",
      "G\n",
      "T\n",
      "T\n",
      "C\n",
      "C\n",
      "C\n",
      "C\n",
      "C\n",
      "C\n",
      "G\n",
      "T\n",
      "T\n",
      "A\n",
      "C\n",
      "C\n",
      "A\n",
      "A\n",
      "T\n",
      "T\n",
      "T\n",
      "A\n",
      "T\n",
      "T\n",
      "A\n",
      "C\n",
      "A\n",
      "C\n",
      "A\n",
      "T\n",
      "T\n",
      "A\n",
      "A\n",
      "A\n",
      "T\n",
      "T\n",
      "A\n",
      "A\n",
      "C\n",
      "G\n",
      "T\n",
      "C\n",
      "A\n",
      "A\n",
      "T\n",
      "A\n",
      "A\n",
      "C\n",
      "\n",
      "\n",
      "T\n",
      "C\n",
      "A\n",
      "C\n",
      "C\n",
      "A\n",
      "T\n",
      "G\n",
      "A\n",
      "T\n",
      "T\n",
      "T\n",
      "T\n",
      "T\n",
      "T\n",
      "T\n",
      "C\n",
      "A\n",
      "C\n",
      "A\n",
      "\n",
      "\n"
     ]
    }
   ],
   "source": []
  },
  {
   "cell_type": "code",
   "execution_count": null,
   "metadata": {},
   "outputs": [],
   "source": []
  }
 ],
 "metadata": {
  "kernelspec": {
   "display_name": "Python 3",
   "language": "python",
   "name": "python3"
  },
  "language_info": {
   "codemirror_mode": {
    "name": "ipython",
    "version": 3
   },
   "file_extension": ".py",
   "mimetype": "text/x-python",
   "name": "python",
   "nbconvert_exporter": "python",
   "pygments_lexer": "ipython3",
   "version": "3.7.6"
  }
 },
 "nbformat": 4,
 "nbformat_minor": 4
}
